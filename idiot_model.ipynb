{
 "cells": [
  {
   "cell_type": "code",
   "execution_count": 13,
   "metadata": {},
   "outputs": [],
   "source": [
    "import pandas as pd\n",
    "import numpy as np\n",
    "\n",
    "from sklearn.linear_model import LinearRegression\n",
    "from sklearn.model_selection import train_test_split"
   ]
  },
  {
   "cell_type": "code",
   "execution_count": 14,
   "metadata": {},
   "outputs": [],
   "source": [
    "df = pd.read_csv(\"car_price.csv\", sep=\",\", encoding=\"utf-8\")"
   ]
  },
  {
   "cell_type": "code",
   "execution_count": 15,
   "metadata": {},
   "outputs": [],
   "source": [
    "SEED = 7\n",
    "np.random.seed(SEED)"
   ]
  },
  {
   "attachments": {},
   "cell_type": "markdown",
   "metadata": {},
   "source": [
    "# Adjusting data"
   ]
  },
  {
   "cell_type": "code",
   "execution_count": 16,
   "metadata": {},
   "outputs": [],
   "source": [
    "df.drop(columns=['car_ID', 'curbweight', 'highwaympg'], inplace=True)\n",
    "# Identificator doesn't help in any conclusion\n",
    "# curbweight and highwaympg have a high correlation to other variables"
   ]
  },
  {
   "cell_type": "code",
   "execution_count": 17,
   "metadata": {},
   "outputs": [],
   "source": [
    "## Replacing car name by car brand,\n",
    "## Because the frequency of each model is very low\n",
    "\n",
    "# I will persiste only the brand\n",
    "car_brand = lambda x: x.split(' ')[0].lower()\n",
    "df = df.assign(brand=df.CarName.apply(car_brand))\n",
    "\n",
    "# Fixing wrong written values\n",
    "fix_values = {\"maxda\": \"mazda\", \n",
    "              \"porcshce\": \"porsche\", \n",
    "              \"toyouta\": \"toyota\", \n",
    "              \"vokswagen\": \"volkswagen\", \n",
    "              \"vw\": \"volkswagen\"\n",
    "              }\n",
    "\n",
    "fix_car_brand = lambda x: fix_values[x] if x in fix_values.keys() else x\n",
    "df.brand = df.brand.apply(fix_car_brand)\n",
    "\n",
    "# Its name isn't important anymore\n",
    "df = df.drop([\"CarName\"], axis=1)"
   ]
  },
  {
   "cell_type": "code",
   "execution_count": 18,
   "metadata": {},
   "outputs": [],
   "source": [
    "# transforming the number of doors into integer variable\n",
    "doors_to_int = {\"two\": 2, \"four\":4}\n",
    "df.doornumber = df.doornumber.map(doors_to_int)"
   ]
  },
  {
   "cell_type": "code",
   "execution_count": null,
   "metadata": {},
   "outputs": [],
   "source": []
  },
  {
   "cell_type": "code",
   "execution_count": 19,
   "metadata": {},
   "outputs": [
    {
     "ename": "NameError",
     "evalue": "name 'encoded_df' is not defined",
     "output_type": "error",
     "traceback": [
      "\u001b[0;31m---------------------------------------------------------------------------\u001b[0m",
      "\u001b[0;31mNameError\u001b[0m                                 Traceback (most recent call last)",
      "Cell \u001b[0;32mIn[19], line 1\u001b[0m\n\u001b[0;32m----> 1\u001b[0m train_x, test_x, train_y, test_y \u001b[39m=\u001b[39m train_test_split(encoded_df\u001b[39m.\u001b[39mdrop(\u001b[39m\"\u001b[39m\u001b[39mprice\u001b[39m\u001b[39m\"\u001b[39m, axis\u001b[39m=\u001b[39m\u001b[39m1\u001b[39m), \n\u001b[1;32m      2\u001b[0m                                                     encoded_df\u001b[39m.\u001b[39mprice,\n\u001b[1;32m      3\u001b[0m                                                     test_size\u001b[39m=\u001b[39m\u001b[39m0.25\u001b[39m)\n",
      "\u001b[0;31mNameError\u001b[0m: name 'encoded_df' is not defined"
     ]
    }
   ],
   "source": [
    "train_x, test_x, train_y, test_y = train_test_split(encoded_df.drop(\"price\", axis=1), \n",
    "                                                    encoded_df.price,\n",
    "                                                    test_size=0.25)"
   ]
  },
  {
   "cell_type": "code",
   "execution_count": null,
   "metadata": {},
   "outputs": [],
   "source": []
  }
 ],
 "metadata": {
  "kernelspec": {
   "display_name": "Python 3",
   "language": "python",
   "name": "python3"
  },
  "language_info": {
   "codemirror_mode": {
    "name": "ipython",
    "version": 3
   },
   "file_extension": ".py",
   "mimetype": "text/x-python",
   "name": "python",
   "nbconvert_exporter": "python",
   "pygments_lexer": "ipython3",
   "version": "3.10.6"
  },
  "orig_nbformat": 4
 },
 "nbformat": 4,
 "nbformat_minor": 2
}
